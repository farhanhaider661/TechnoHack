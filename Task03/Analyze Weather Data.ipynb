{
 "cells": [
  {
   "cell_type": "code",
   "execution_count": 1,
   "id": "9761efed-16b2-4deb-b3c4-a541f4d67232",
   "metadata": {},
   "outputs": [],
   "source": [
    "import pandas as pd\n",
    "from sklearn.model_selection import train_test_split\n",
    "from sklearn.ensemble import RandomForestRegressor\n",
    "from sklearn.metrics import mean_absolute_error"
   ]
  },
  {
   "cell_type": "code",
   "execution_count": 2,
   "id": "b33f3b17-1192-47b3-a05e-957abe51c321",
   "metadata": {},
   "outputs": [],
   "source": [
    "# Step 1: Load your datasets\n",
    "weather_description = pd.read_csv('weather_description.csv', index_col='datetime', parse_dates=True)\n",
    "humidity = pd.read_csv('humidity.csv', index_col='datetime', parse_dates=True).add_suffix('_humidity')\n",
    "temperature = pd.read_csv('temperature.csv', index_col='datetime', parse_dates=True).add_suffix('_temperature')\n",
    "pressure = pd.read_csv('pressure.csv', index_col='datetime', parse_dates=True).add_suffix('_pressure')\n",
    "wind_direction = pd.read_csv('wind_direction.csv', index_col='datetime', parse_dates=True).add_suffix('_wind_direction')\n",
    "wind_speed = pd.read_csv('wind_speed.csv', index_col='datetime', parse_dates=True).add_suffix('_wind_speed')\n",
    "city_attributes = pd.read_csv('city_attributes.csv')"
   ]
  },
  {
   "cell_type": "code",
   "execution_count": 3,
   "id": "3e2d363d-d260-4d16-95da-290949af3004",
   "metadata": {},
   "outputs": [],
   "source": [
    "# Step 2: Merge datasets into a single DataFrame\n",
    "weather_data = temperature.join([weather_description.add_suffix('_description'), humidity, pressure, wind_direction, wind_speed])"
   ]
  },
  {
   "cell_type": "code",
   "execution_count": 4,
   "id": "da21941b-02a5-4380-96b3-b85ab87ed6c0",
   "metadata": {},
   "outputs": [],
   "source": [
    "# Verify no overlapping columns (except for 'datetime')\n",
    "if weather_data.columns.duplicated().any():\n",
    "    raise Exception(\"Data contains overlapping columns, please check dataset column names.\")"
   ]
  },
  {
   "cell_type": "code",
   "execution_count": 5,
   "id": "987ec16d-3a60-44e5-bce3-aba40854233b",
   "metadata": {},
   "outputs": [],
   "source": [
    "# Step 3: Data Cleaning\n",
    "weather_data.dropna(inplace=True)"
   ]
  },
  {
   "cell_type": "code",
   "execution_count": 6,
   "id": "ee67862f-bdf3-4d33-abe9-ad703f21f081",
   "metadata": {},
   "outputs": [],
   "source": [
    "# In a real-world scenario, you could convert it to numeric using encoding.\n",
    "weather_data.drop(columns=weather_data.filter(regex='_description$').columns, inplace=True)"
   ]
  },
  {
   "cell_type": "code",
   "execution_count": 7,
   "id": "560d572f-7f4f-48aa-a3bb-a300aea3e4d2",
   "metadata": {},
   "outputs": [],
   "source": [
    "# Extract all temperature columns as features except for the one we want to predict\n",
    "feature_columns = [col for col in weather_data.columns if 'temperature' in col and 'New York_temperature' not in col]\n",
    "features = weather_data[feature_columns]"
   ]
  },
  {
   "cell_type": "code",
   "execution_count": 8,
   "id": "fc3645dc-0eea-47ba-85d2-72eeef584592",
   "metadata": {},
   "outputs": [],
   "source": [
    "# Set the target to the New York temperature\n",
    "target = weather_data['New York_temperature']"
   ]
  },
  {
   "cell_type": "code",
   "execution_count": 9,
   "id": "9c3fcb6e-2fc3-44a3-bdd1-0c63132db535",
   "metadata": {},
   "outputs": [],
   "source": [
    "X_train, X_test, y_train, y_test = train_test_split(features, target, test_size=0.2, random_state=42)"
   ]
  },
  {
   "cell_type": "code",
   "execution_count": 10,
   "id": "271c3c8a-d221-40b4-9679-df5f7a186705",
   "metadata": {},
   "outputs": [],
   "source": [
    "#step7:Model selection"
   ]
  },
  {
   "cell_type": "code",
   "execution_count": 11,
   "id": "aa5b3b36-1ee1-4f98-9fbc-2823444adf99",
   "metadata": {},
   "outputs": [],
   "source": [
    "model = RandomForestRegressor(n_estimators=10, random_state=42)"
   ]
  },
  {
   "cell_type": "code",
   "execution_count": 12,
   "id": "0d665618-2c95-4ad7-a2a8-7393f9e7cb4f",
   "metadata": {},
   "outputs": [
    {
     "data": {
      "text/html": [
       "<style>#sk-container-id-1 {color: black;}#sk-container-id-1 pre{padding: 0;}#sk-container-id-1 div.sk-toggleable {background-color: white;}#sk-container-id-1 label.sk-toggleable__label {cursor: pointer;display: block;width: 100%;margin-bottom: 0;padding: 0.3em;box-sizing: border-box;text-align: center;}#sk-container-id-1 label.sk-toggleable__label-arrow:before {content: \"▸\";float: left;margin-right: 0.25em;color: #696969;}#sk-container-id-1 label.sk-toggleable__label-arrow:hover:before {color: black;}#sk-container-id-1 div.sk-estimator:hover label.sk-toggleable__label-arrow:before {color: black;}#sk-container-id-1 div.sk-toggleable__content {max-height: 0;max-width: 0;overflow: hidden;text-align: left;background-color: #f0f8ff;}#sk-container-id-1 div.sk-toggleable__content pre {margin: 0.2em;color: black;border-radius: 0.25em;background-color: #f0f8ff;}#sk-container-id-1 input.sk-toggleable__control:checked~div.sk-toggleable__content {max-height: 200px;max-width: 100%;overflow: auto;}#sk-container-id-1 input.sk-toggleable__control:checked~label.sk-toggleable__label-arrow:before {content: \"▾\";}#sk-container-id-1 div.sk-estimator input.sk-toggleable__control:checked~label.sk-toggleable__label {background-color: #d4ebff;}#sk-container-id-1 div.sk-label input.sk-toggleable__control:checked~label.sk-toggleable__label {background-color: #d4ebff;}#sk-container-id-1 input.sk-hidden--visually {border: 0;clip: rect(1px 1px 1px 1px);clip: rect(1px, 1px, 1px, 1px);height: 1px;margin: -1px;overflow: hidden;padding: 0;position: absolute;width: 1px;}#sk-container-id-1 div.sk-estimator {font-family: monospace;background-color: #f0f8ff;border: 1px dotted black;border-radius: 0.25em;box-sizing: border-box;margin-bottom: 0.5em;}#sk-container-id-1 div.sk-estimator:hover {background-color: #d4ebff;}#sk-container-id-1 div.sk-parallel-item::after {content: \"\";width: 100%;border-bottom: 1px solid gray;flex-grow: 1;}#sk-container-id-1 div.sk-label:hover label.sk-toggleable__label {background-color: #d4ebff;}#sk-container-id-1 div.sk-serial::before {content: \"\";position: absolute;border-left: 1px solid gray;box-sizing: border-box;top: 0;bottom: 0;left: 50%;z-index: 0;}#sk-container-id-1 div.sk-serial {display: flex;flex-direction: column;align-items: center;background-color: white;padding-right: 0.2em;padding-left: 0.2em;position: relative;}#sk-container-id-1 div.sk-item {position: relative;z-index: 1;}#sk-container-id-1 div.sk-parallel {display: flex;align-items: stretch;justify-content: center;background-color: white;position: relative;}#sk-container-id-1 div.sk-item::before, #sk-container-id-1 div.sk-parallel-item::before {content: \"\";position: absolute;border-left: 1px solid gray;box-sizing: border-box;top: 0;bottom: 0;left: 50%;z-index: -1;}#sk-container-id-1 div.sk-parallel-item {display: flex;flex-direction: column;z-index: 1;position: relative;background-color: white;}#sk-container-id-1 div.sk-parallel-item:first-child::after {align-self: flex-end;width: 50%;}#sk-container-id-1 div.sk-parallel-item:last-child::after {align-self: flex-start;width: 50%;}#sk-container-id-1 div.sk-parallel-item:only-child::after {width: 0;}#sk-container-id-1 div.sk-dashed-wrapped {border: 1px dashed gray;margin: 0 0.4em 0.5em 0.4em;box-sizing: border-box;padding-bottom: 0.4em;background-color: white;}#sk-container-id-1 div.sk-label label {font-family: monospace;font-weight: bold;display: inline-block;line-height: 1.2em;}#sk-container-id-1 div.sk-label-container {text-align: center;}#sk-container-id-1 div.sk-container {/* jupyter's `normalize.less` sets `[hidden] { display: none; }` but bootstrap.min.css set `[hidden] { display: none !important; }` so we also need the `!important` here to be able to override the default hidden behavior on the sphinx rendered scikit-learn.org. See: https://github.com/scikit-learn/scikit-learn/issues/21755 */display: inline-block !important;position: relative;}#sk-container-id-1 div.sk-text-repr-fallback {display: none;}</style><div id=\"sk-container-id-1\" class=\"sk-top-container\"><div class=\"sk-text-repr-fallback\"><pre>RandomForestRegressor(n_estimators=10, random_state=42)</pre><b>In a Jupyter environment, please rerun this cell to show the HTML representation or trust the notebook. <br />On GitHub, the HTML representation is unable to render, please try loading this page with nbviewer.org.</b></div><div class=\"sk-container\" hidden><div class=\"sk-item\"><div class=\"sk-estimator sk-toggleable\"><input class=\"sk-toggleable__control sk-hidden--visually\" id=\"sk-estimator-id-1\" type=\"checkbox\" checked><label for=\"sk-estimator-id-1\" class=\"sk-toggleable__label sk-toggleable__label-arrow\">RandomForestRegressor</label><div class=\"sk-toggleable__content\"><pre>RandomForestRegressor(n_estimators=10, random_state=42)</pre></div></div></div></div></div>"
      ],
      "text/plain": [
       "RandomForestRegressor(n_estimators=10, random_state=42)"
      ]
     },
     "execution_count": 12,
     "metadata": {},
     "output_type": "execute_result"
    }
   ],
   "source": [
    "# Step 8: Model Training\n",
    "model.fit(X_train, y_train)"
   ]
  },
  {
   "cell_type": "code",
   "execution_count": 13,
   "id": "7d874b9d-6003-4fd3-98f8-31d168b9f563",
   "metadata": {},
   "outputs": [
    {
     "name": "stdout",
     "output_type": "stream",
     "text": [
      "[295.60919647 285.65095106 279.7248     ... 295.3249     277.5869\n",
      " 277.58585   ]\n"
     ]
    }
   ],
   "source": [
    "# Step 9: Model Evaluation\n",
    "y_pred = model.predict(X_test)\n",
    "print(y_pred)\n",
    "mae = mean_absolute_error(y_test, y_pred)"
   ]
  },
  {
   "cell_type": "code",
   "execution_count": 14,
   "id": "1743f2aa-c997-4271-bd11-49f8c83c92db",
   "metadata": {},
   "outputs": [
    {
     "name": "stdout",
     "output_type": "stream",
     "text": [
      "Model MAE: 0.8655412348044154\n"
     ]
    }
   ],
   "source": [
    "print(f\"Model MAE: {mae}\")"
   ]
  }
 ],
 "metadata": {
  "kernelspec": {
   "display_name": "Python 3 (ipykernel)",
   "language": "python",
   "name": "python3"
  },
  "language_info": {
   "codemirror_mode": {
    "name": "ipython",
    "version": 3
   },
   "file_extension": ".py",
   "mimetype": "text/x-python",
   "name": "python",
   "nbconvert_exporter": "python",
   "pygments_lexer": "ipython3",
   "version": "3.11.5"
  }
 },
 "nbformat": 4,
 "nbformat_minor": 5
}
